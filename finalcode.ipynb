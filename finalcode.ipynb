{
 "cells": [
  {
   "cell_type": "code",
   "execution_count": 1,
   "id": "a87184a6",
   "metadata": {},
   "outputs": [],
   "source": [
    "import pandas as pd"
   ]
  },
  {
   "cell_type": "code",
   "execution_count": 2,
   "id": "a47559e7",
   "metadata": {},
   "outputs": [],
   "source": [
    "df =pd.read_excel(\"PremiumData_Insuarance.xlsx\")"
   ]
  },
  {
   "cell_type": "code",
   "execution_count": 3,
   "id": "fa3c820e",
   "metadata": {
    "scrolled": true
   },
   "outputs": [
    {
     "data": {
      "text/plain": [
       "<bound method NDFrame.head of           Retailer  IPTTaxAmount BrokerAgent  Commission  NettoCompany  \\\n",
       "0       Retailer 1          5.14        Brok       15.44         23.62   \n",
       "1       Retailer 1          0.64        Brok        1.93          2.43   \n",
       "2       Retailer 1          0.75        Brok        2.25          2.83   \n",
       "3       Retailer 1          9.53        Brok       28.63         36.06   \n",
       "4       Retailer 2          4.50        Brok       13.51         17.01   \n",
       "...            ...           ...         ...         ...           ...   \n",
       "106940  Retailer 1          1.07        Brok        3.22          4.22   \n",
       "106941  Retailer 1          2.57        Brok        7.72         10.14   \n",
       "106942  Retailer 1          3.96        Brok       11.90         15.63   \n",
       "106943  Retailer 3         -3.96        Brok      -11.90        -15.63   \n",
       "106944  Retailer 3         -2.57        Brok       -7.72        -10.14   \n",
       "\n",
       "            Admin  NetPremiumtoCompany ReportingDate  TotalSumsInsured  \\\n",
       "0        3.307959                23.62    2021-07-01            299.99   \n",
       "1        0.940408                 2.43    2021-07-01             99.99   \n",
       "2        1.102245                 2.83    2021-07-01            149.99   \n",
       "3       14.034082                36.06    2021-07-01            749.99   \n",
       "4        6.622857                17.01    2021-07-01            599.99   \n",
       "...           ...                  ...           ...               ...   \n",
       "106940   1.393878                 4.22    2023-02-01             99.99   \n",
       "106941   3.353061                10.14    2023-02-01            199.99   \n",
       "106942   5.181020                15.63    2023-02-01            299.99   \n",
       "106943  -5.181020               -15.63    2023-02-01            299.99   \n",
       "106944  -3.353061               -10.14    2023-02-01            199.99   \n",
       "\n",
       "       Currency  ...  RetailPremiumexIPT  IPTTaxRate  TotalPaidbyConsumer  \\\n",
       "0           GBP  ...               42.85    0.119953                47.99   \n",
       "1           GBP  ...                5.35    0.119626                 5.99   \n",
       "2           GBP  ...                6.24    0.120192                 6.99   \n",
       "3           GBP  ...               79.46    0.119935                88.99   \n",
       "4           GBP  ...               37.49    0.120032                41.99   \n",
       "...         ...  ...                 ...         ...                  ...   \n",
       "106940      GBP  ...                8.92    0.119955                 9.99   \n",
       "106941      GBP  ...               21.42    0.119981                23.99   \n",
       "106942      GBP  ...               33.03    0.119891                36.99   \n",
       "106943      GBP  ...              -33.03    0.119891               -36.99   \n",
       "106944      GBP  ...              -21.42    0.119981               -23.99   \n",
       "\n",
       "        RetailPremiumincIPT  UWYOA  CashPayabletoBrok  Type  PolicyNumber  \\\n",
       "0                     47.99   2020           0.482041  Sale      25390468   \n",
       "1                      5.99   2020           0.049592  Sale      25403909   \n",
       "2                      6.99   2020           0.057755  Sale      25390776   \n",
       "3                     88.99   2020           0.735918  Sale      25424939   \n",
       "4                     41.99   2020           0.347143  Sale      25390363   \n",
       "...                     ...    ...                ...   ...           ...   \n",
       "106940                 9.99   2022           0.086122  Sale      26759326   \n",
       "106941                23.99   2022           0.206939  Sale      26764605   \n",
       "106942                36.99   2022           0.318980  Sale      26764645   \n",
       "106943               -36.99   2022          -0.318980  Canx      26764645   \n",
       "106944               -23.99   2022          -0.206939  Canx      26764605   \n",
       "\n",
       "       CashPayabletoUnderwriter  admin  \n",
       "0                         28.76    NaN  \n",
       "1                          3.07    NaN  \n",
       "2                          3.58    NaN  \n",
       "3                         45.59    NaN  \n",
       "4                         21.51    NaN  \n",
       "...                         ...    ...  \n",
       "106940                     5.29    NaN  \n",
       "106941                    12.71    NaN  \n",
       "106942                    19.59    NaN  \n",
       "106943                   -19.59    NaN  \n",
       "106944                   -12.71    NaN  \n",
       "\n",
       "[106945 rows x 22 columns]>"
      ]
     },
     "execution_count": 3,
     "metadata": {},
     "output_type": "execute_result"
    }
   ],
   "source": [
    "df.head"
   ]
  },
  {
   "cell_type": "code",
   "execution_count": 4,
   "id": "d1147481",
   "metadata": {},
   "outputs": [
    {
     "data": {
      "text/html": [
       "<div>\n",
       "<style scoped>\n",
       "    .dataframe tbody tr th:only-of-type {\n",
       "        vertical-align: middle;\n",
       "    }\n",
       "\n",
       "    .dataframe tbody tr th {\n",
       "        vertical-align: top;\n",
       "    }\n",
       "\n",
       "    .dataframe thead th {\n",
       "        text-align: right;\n",
       "    }\n",
       "</style>\n",
       "<table border=\"1\" class=\"dataframe\">\n",
       "  <thead>\n",
       "    <tr style=\"text-align: right;\">\n",
       "      <th></th>\n",
       "      <th>IPTTaxAmount</th>\n",
       "      <th>Commission</th>\n",
       "      <th>NettoCompany</th>\n",
       "      <th>Admin</th>\n",
       "      <th>NetPremiumtoCompany</th>\n",
       "      <th>TotalSumsInsured</th>\n",
       "      <th>PolicyDurationMonths</th>\n",
       "      <th>Brokerage</th>\n",
       "      <th>RetailPremiumexIPT</th>\n",
       "      <th>IPTTaxRate</th>\n",
       "      <th>TotalPaidbyConsumer</th>\n",
       "      <th>RetailPremiumincIPT</th>\n",
       "      <th>UWYOA</th>\n",
       "      <th>CashPayabletoBrok</th>\n",
       "      <th>PolicyNumber</th>\n",
       "      <th>CashPayabletoUnderwriter</th>\n",
       "      <th>admin</th>\n",
       "    </tr>\n",
       "  </thead>\n",
       "  <tbody>\n",
       "    <tr>\n",
       "      <th>count</th>\n",
       "      <td>106945.000000</td>\n",
       "      <td>106945.000000</td>\n",
       "      <td>106435.000000</td>\n",
       "      <td>106945.000000</td>\n",
       "      <td>106438.000000</td>\n",
       "      <td>106945.000000</td>\n",
       "      <td>106945.0</td>\n",
       "      <td>106440.000000</td>\n",
       "      <td>106945.000000</td>\n",
       "      <td>106945.000000</td>\n",
       "      <td>106945.000000</td>\n",
       "      <td>106945.000000</td>\n",
       "      <td>106945.000000</td>\n",
       "      <td>106433.000000</td>\n",
       "      <td>1.069450e+05</td>\n",
       "      <td>106945.000000</td>\n",
       "      <td>0.0</td>\n",
       "    </tr>\n",
       "    <tr>\n",
       "      <th>mean</th>\n",
       "      <td>2.413921</td>\n",
       "      <td>7.149893</td>\n",
       "      <td>9.469540</td>\n",
       "      <td>3.302916</td>\n",
       "      <td>9.470279</td>\n",
       "      <td>334.760830</td>\n",
       "      <td>36.0</td>\n",
       "      <td>0.198272</td>\n",
       "      <td>20.121175</td>\n",
       "      <td>0.119955</td>\n",
       "      <td>22.535096</td>\n",
       "      <td>22.535096</td>\n",
       "      <td>2021.097143</td>\n",
       "      <td>0.198285</td>\n",
       "      <td>2.596302e+07</td>\n",
       "      <td>11.884024</td>\n",
       "      <td>NaN</td>\n",
       "    </tr>\n",
       "    <tr>\n",
       "      <th>std</th>\n",
       "      <td>2.484841</td>\n",
       "      <td>7.935573</td>\n",
       "      <td>9.974144</td>\n",
       "      <td>3.340171</td>\n",
       "      <td>9.975929</td>\n",
       "      <td>604.074748</td>\n",
       "      <td>0.0</td>\n",
       "      <td>0.192878</td>\n",
       "      <td>20.711784</td>\n",
       "      <td>0.001242</td>\n",
       "      <td>23.196547</td>\n",
       "      <td>23.196547</td>\n",
       "      <td>0.750684</td>\n",
       "      <td>0.192938</td>\n",
       "      <td>7.944724e+05</td>\n",
       "      <td>12.414646</td>\n",
       "      <td>NaN</td>\n",
       "    </tr>\n",
       "    <tr>\n",
       "      <th>min</th>\n",
       "      <td>-13.390000</td>\n",
       "      <td>-83.580000</td>\n",
       "      <td>-88.820000</td>\n",
       "      <td>-20.740000</td>\n",
       "      <td>-88.820000</td>\n",
       "      <td>0.000000</td>\n",
       "      <td>36.0</td>\n",
       "      <td>-1.738163</td>\n",
       "      <td>-111.600000</td>\n",
       "      <td>0.000000</td>\n",
       "      <td>-124.990000</td>\n",
       "      <td>-124.990000</td>\n",
       "      <td>2020.000000</td>\n",
       "      <td>-1.738163</td>\n",
       "      <td>2.033912e+07</td>\n",
       "      <td>-94.600000</td>\n",
       "      <td>NaN</td>\n",
       "    </tr>\n",
       "    <tr>\n",
       "      <th>25%</th>\n",
       "      <td>0.960000</td>\n",
       "      <td>2.890000</td>\n",
       "      <td>3.800000</td>\n",
       "      <td>1.393878</td>\n",
       "      <td>3.800000</td>\n",
       "      <td>149.990000</td>\n",
       "      <td>36.0</td>\n",
       "      <td>0.077551</td>\n",
       "      <td>8.030000</td>\n",
       "      <td>0.119888</td>\n",
       "      <td>8.990000</td>\n",
       "      <td>8.990000</td>\n",
       "      <td>2021.000000</td>\n",
       "      <td>0.077551</td>\n",
       "      <td>2.553083e+07</td>\n",
       "      <td>4.760000</td>\n",
       "      <td>NaN</td>\n",
       "    </tr>\n",
       "    <tr>\n",
       "      <th>50%</th>\n",
       "      <td>1.930000</td>\n",
       "      <td>5.790000</td>\n",
       "      <td>7.290000</td>\n",
       "      <td>2.656327</td>\n",
       "      <td>7.290000</td>\n",
       "      <td>199.990000</td>\n",
       "      <td>36.0</td>\n",
       "      <td>0.148776</td>\n",
       "      <td>16.060000</td>\n",
       "      <td>0.119974</td>\n",
       "      <td>17.990000</td>\n",
       "      <td>17.990000</td>\n",
       "      <td>2021.000000</td>\n",
       "      <td>0.148776</td>\n",
       "      <td>2.625527e+07</td>\n",
       "      <td>9.220000</td>\n",
       "      <td>NaN</td>\n",
       "    </tr>\n",
       "    <tr>\n",
       "      <th>75%</th>\n",
       "      <td>3.210000</td>\n",
       "      <td>9.650000</td>\n",
       "      <td>12.250000</td>\n",
       "      <td>4.342653</td>\n",
       "      <td>12.250000</td>\n",
       "      <td>450.990000</td>\n",
       "      <td>36.0</td>\n",
       "      <td>0.250000</td>\n",
       "      <td>26.780000</td>\n",
       "      <td>0.120170</td>\n",
       "      <td>29.990000</td>\n",
       "      <td>29.990000</td>\n",
       "      <td>2022.000000</td>\n",
       "      <td>0.250000</td>\n",
       "      <td>2.652824e+07</td>\n",
       "      <td>15.360000</td>\n",
       "      <td>NaN</td>\n",
       "    </tr>\n",
       "    <tr>\n",
       "      <th>max</th>\n",
       "      <td>14.460000</td>\n",
       "      <td>83.580000</td>\n",
       "      <td>88.820000</td>\n",
       "      <td>21.773673</td>\n",
       "      <td>88.820000</td>\n",
       "      <td>15000.000000</td>\n",
       "      <td>36.0</td>\n",
       "      <td>1.812653</td>\n",
       "      <td>120.530000</td>\n",
       "      <td>0.120787</td>\n",
       "      <td>134.990000</td>\n",
       "      <td>134.990000</td>\n",
       "      <td>2022.000000</td>\n",
       "      <td>1.812653</td>\n",
       "      <td>2.691702e+07</td>\n",
       "      <td>94.600000</td>\n",
       "      <td>NaN</td>\n",
       "    </tr>\n",
       "  </tbody>\n",
       "</table>\n",
       "</div>"
      ],
      "text/plain": [
       "        IPTTaxAmount     Commission   NettoCompany          Admin  \\\n",
       "count  106945.000000  106945.000000  106435.000000  106945.000000   \n",
       "mean        2.413921       7.149893       9.469540       3.302916   \n",
       "std         2.484841       7.935573       9.974144       3.340171   \n",
       "min       -13.390000     -83.580000     -88.820000     -20.740000   \n",
       "25%         0.960000       2.890000       3.800000       1.393878   \n",
       "50%         1.930000       5.790000       7.290000       2.656327   \n",
       "75%         3.210000       9.650000      12.250000       4.342653   \n",
       "max        14.460000      83.580000      88.820000      21.773673   \n",
       "\n",
       "       NetPremiumtoCompany  TotalSumsInsured  PolicyDurationMonths  \\\n",
       "count        106438.000000     106945.000000              106945.0   \n",
       "mean              9.470279        334.760830                  36.0   \n",
       "std               9.975929        604.074748                   0.0   \n",
       "min             -88.820000          0.000000                  36.0   \n",
       "25%               3.800000        149.990000                  36.0   \n",
       "50%               7.290000        199.990000                  36.0   \n",
       "75%              12.250000        450.990000                  36.0   \n",
       "max              88.820000      15000.000000                  36.0   \n",
       "\n",
       "           Brokerage  RetailPremiumexIPT     IPTTaxRate  TotalPaidbyConsumer  \\\n",
       "count  106440.000000       106945.000000  106945.000000        106945.000000   \n",
       "mean        0.198272           20.121175       0.119955            22.535096   \n",
       "std         0.192878           20.711784       0.001242            23.196547   \n",
       "min        -1.738163         -111.600000       0.000000          -124.990000   \n",
       "25%         0.077551            8.030000       0.119888             8.990000   \n",
       "50%         0.148776           16.060000       0.119974            17.990000   \n",
       "75%         0.250000           26.780000       0.120170            29.990000   \n",
       "max         1.812653          120.530000       0.120787           134.990000   \n",
       "\n",
       "       RetailPremiumincIPT          UWYOA  CashPayabletoBrok  PolicyNumber  \\\n",
       "count        106945.000000  106945.000000      106433.000000  1.069450e+05   \n",
       "mean             22.535096    2021.097143           0.198285  2.596302e+07   \n",
       "std              23.196547       0.750684           0.192938  7.944724e+05   \n",
       "min            -124.990000    2020.000000          -1.738163  2.033912e+07   \n",
       "25%               8.990000    2021.000000           0.077551  2.553083e+07   \n",
       "50%              17.990000    2021.000000           0.148776  2.625527e+07   \n",
       "75%              29.990000    2022.000000           0.250000  2.652824e+07   \n",
       "max             134.990000    2022.000000           1.812653  2.691702e+07   \n",
       "\n",
       "       CashPayabletoUnderwriter  admin  \n",
       "count             106945.000000    0.0  \n",
       "mean                  11.884024    NaN  \n",
       "std                   12.414646    NaN  \n",
       "min                  -94.600000    NaN  \n",
       "25%                    4.760000    NaN  \n",
       "50%                    9.220000    NaN  \n",
       "75%                   15.360000    NaN  \n",
       "max                   94.600000    NaN  "
      ]
     },
     "execution_count": 4,
     "metadata": {},
     "output_type": "execute_result"
    }
   ],
   "source": [
    "df.describe()"
   ]
  },
  {
   "cell_type": "code",
   "execution_count": 6,
   "id": "4e02bbc3",
   "metadata": {},
   "outputs": [],
   "source": [
    "z = df[\"Retailer\"]"
   ]
  },
  {
   "cell_type": "code",
   "execution_count": 7,
   "id": "5c628196",
   "metadata": {},
   "outputs": [
    {
     "data": {
      "text/plain": [
       "0         Retailer 1\n",
       "1         Retailer 1\n",
       "2         Retailer 1\n",
       "3         Retailer 1\n",
       "4         Retailer 2\n",
       "             ...    \n",
       "106940    Retailer 1\n",
       "106941    Retailer 1\n",
       "106942    Retailer 1\n",
       "106943    Retailer 3\n",
       "106944    Retailer 3\n",
       "Name: Retailer, Length: 106945, dtype: object"
      ]
     },
     "execution_count": 7,
     "metadata": {},
     "output_type": "execute_result"
    }
   ],
   "source": [
    "z"
   ]
  },
  {
   "cell_type": "code",
   "execution_count": 8,
   "id": "8ebfadb8",
   "metadata": {},
   "outputs": [
    {
     "name": "stdout",
     "output_type": "stream",
     "text": [
      "Retailer 1    64101\n",
      "Retailer 2    39282\n",
      "Retailer 3     3562\n",
      "Name: Retailer, dtype: int64\n"
     ]
    }
   ],
   "source": [
    "print(df.Retailer.value_counts())"
   ]
  },
  {
   "cell_type": "code",
   "execution_count": 9,
   "id": "e364a377",
   "metadata": {
    "scrolled": true
   },
   "outputs": [
    {
     "data": {
      "text/plain": [
       "Retailer                         0\n",
       "IPTTaxAmount                     0\n",
       "BrokerAgent                      0\n",
       "Commission                       0\n",
       "NettoCompany                   510\n",
       "Admin                            0\n",
       "NetPremiumtoCompany            507\n",
       "ReportingDate                    0\n",
       "TotalSumsInsured                 0\n",
       "Currency                         0\n",
       "PolicyDurationMonths             0\n",
       "Brokerage                      505\n",
       "RetailPremiumexIPT               0\n",
       "IPTTaxRate                       0\n",
       "TotalPaidbyConsumer              0\n",
       "RetailPremiumincIPT              0\n",
       "UWYOA                            0\n",
       "CashPayabletoBrok              512\n",
       "Type                             0\n",
       "PolicyNumber                     0\n",
       "CashPayabletoUnderwriter         0\n",
       "admin                       106945\n",
       "dtype: int64"
      ]
     },
     "execution_count": 9,
     "metadata": {},
     "output_type": "execute_result"
    }
   ],
   "source": [
    "df.isnull().sum()"
   ]
  },
  {
   "cell_type": "code",
   "execution_count": null,
   "id": "25e5f905",
   "metadata": {},
   "outputs": [],
   "source": []
  },
  {
   "cell_type": "code",
   "execution_count": 17,
   "id": "44930852",
   "metadata": {},
   "outputs": [],
   "source": [
    "import seaborn as sn"
   ]
  },
  {
   "cell_type": "code",
   "execution_count": 24,
   "id": "2224d8e4",
   "metadata": {},
   "outputs": [],
   "source": [
    "from sklearn.preprocessing import LabelEncoder\n",
    "encoder=LabelEncoder()\n",
    "df['Retailer']=encoder.fit_transform(df['Retailer'])\n",
    "df['ReportingDate'] = change_dates_to_number(df['ReportingDate'])"
   ]
  },
  {
   "cell_type": "code",
   "execution_count": 11,
   "id": "5b02150c",
   "metadata": {},
   "outputs": [
    {
     "data": {
      "text/plain": [
       "0         0\n",
       "1         0\n",
       "2         0\n",
       "3         0\n",
       "4         1\n",
       "         ..\n",
       "106940    0\n",
       "106941    0\n",
       "106942    0\n",
       "106943    2\n",
       "106944    2\n",
       "Name: Retailer, Length: 106945, dtype: int32"
      ]
     },
     "execution_count": 11,
     "metadata": {},
     "output_type": "execute_result"
    }
   ],
   "source": [
    "df.Retailer"
   ]
  },
  {
   "cell_type": "code",
   "execution_count": 12,
   "id": "8fbeeb97",
   "metadata": {},
   "outputs": [
    {
     "data": {
      "text/plain": [
       "array([0, 1, 2])"
      ]
     },
     "execution_count": 12,
     "metadata": {},
     "output_type": "execute_result"
    }
   ],
   "source": [
    "df.Retailer.unique()"
   ]
  },
  {
   "cell_type": "code",
   "execution_count": 25,
   "id": "fc1589f0",
   "metadata": {},
   "outputs": [],
   "source": [
    "x=df.drop(labels=['Retailer'],axis=1)\n",
    "y=df.Retailer"
   ]
  },
  {
   "cell_type": "markdown",
   "id": "98051a19",
   "metadata": {},
   "source": [
    "from sklearn.model_selection import train_test_split\n",
    "x_train,X_test,y_train,y_test=train_test_split(X,y,test_size=0.20,random_state=42)"
   ]
  },
  {
   "cell_type": "code",
   "execution_count": 140,
   "id": "407959a3",
   "metadata": {},
   "outputs": [],
   "source": [
    " "
   ]
  },
  {
   "cell_type": "code",
   "execution_count": 26,
   "id": "0bd07a26",
   "metadata": {},
   "outputs": [
    {
     "data": {
      "text/plain": [
       "array([25390468, 25403909, 25390776, ..., 26759326, 26764605, 26764645],\n",
       "      dtype=int64)"
      ]
     },
     "execution_count": 26,
     "metadata": {},
     "output_type": "execute_result"
    }
   ],
   "source": [
    "df.PolicyNumber.unique()"
   ]
  },
  {
   "cell_type": "code",
   "execution_count": 27,
   "id": "f026c635",
   "metadata": {},
   "outputs": [],
   "source": [
    "from sklearn.pipeline import Pipeline\n",
    "from sklearn.impute import SimpleImputer ##handle missing values\n",
    "from sklearn.preprocessing import StandardScaler ##feature scaling\n",
    "\n",
    "from sklearn.preprocessing import OneHotEncoder ## categorical to numerical\n",
    "from sklearn.compose import ColumnTransformer\n",
    "import pickle"
   ]
  },
  {
   "cell_type": "code",
   "execution_count": 41,
   "id": "18490d12",
   "metadata": {},
   "outputs": [],
   "source": [
    "categorical_column =['Type','UWYOA','Currency','BrokerAgent']\n",
    "numerical_column =['IPTTaxAmount','Commission','NettoCompany','ReportingDate','Admin','NetPremiumtoCompany','TotalSumsInsured','PolicyDurationMonths','Brokerage','RetailPremiumexIPT','IPTTaxRate','TotalPaidbyConsumer','RetailPremiumincIPT','CashPayabletoBrok','PolicyNumber','CashPayabletoUnderwriter']                 "
   ]
  },
  {
   "cell_type": "code",
   "execution_count": 29,
   "id": "01d5d6a3",
   "metadata": {},
   "outputs": [
    {
     "data": {
      "text/plain": [
       "0    752486\n",
       "1    751957\n",
       "Name: x, dtype: int64"
      ]
     },
     "execution_count": 29,
     "metadata": {},
     "output_type": "execute_result"
    }
   ],
   "source": [
    "from datetime import datetime\n",
    "\n",
    "def date_to_numerical(date_str):\n",
    "    date = datetime.strptime(date_str[0:10],\"%Y-%m-%d\")\n",
    "    number = date.day + date.month*31 + date.year*31*12\n",
    "    return number\n",
    "def change_dates_to_number(data):\n",
    "    return data.apply(date_to_numerical)\n",
    "a = pd.DataFrame([\"2022-09-23\",\"2021-04-21\"],columns=['x'])\n",
    "a = change_dates_to_number(a['x'])\n",
    "a\n"
   ]
  },
  {
   "cell_type": "code",
   "execution_count": 30,
   "id": "58db9ba9",
   "metadata": {},
   "outputs": [],
   "source": [
    "## feature Engineering automation\n",
    "##numerical pipelines\n",
    "num_pipeline= Pipeline(\n",
    "    steps=[\n",
    "        ('imputer',SimpleImputer(strategy='median')), ##missing values\n",
    "        ('scaler',StandardScaler())\n",
    "    ]\n",
    ")\n",
    "\n",
    "\n",
    "##categorical pipeline\n",
    "cat_pipeline= Pipeline(\n",
    "                steps=[\n",
    "                ('imputer',SimpleImputer(strategy='most_frequent')),##handling missing\n",
    "                ('onehotencoder',OneHotEncoder())  ##categorical features to numerical\n",
    "                ]\n",
    "            )\n",
    "                    \n",
    "                \n",
    "           "
   ]
  },
  {
   "cell_type": "code",
   "execution_count": 31,
   "id": "150715f0",
   "metadata": {},
   "outputs": [],
   "source": [
    "preprocessor= ColumnTransformer([\n",
    "    ('num_pipeline',num_pipeline,numerical_column),\n",
    "    ('cat_pipeline',cat_pipeline,categorical_column)\n",
    "])\n",
    "     "
   ]
  },
  {
   "cell_type": "code",
   "execution_count": 32,
   "id": "f34fc481-ced6-495a-bf9d-e96039bd3cf7",
   "metadata": {},
   "outputs": [],
   "source": [
    "from sklearn.model_selection import train_test_split\n",
    "x_train,x_test,y_train,y_test=train_test_split(x,y,test_size=0.20,random_state=42)\n"
   ]
  },
  {
   "cell_type": "code",
   "execution_count": 33,
   "id": "5060baed",
   "metadata": {},
   "outputs": [],
   "source": [
    "\n",
    "x_train = preprocessor.fit_transform(x_train)\n",
    "x_test = preprocessor.transform(x_test)\n"
   ]
  },
  {
   "cell_type": "code",
   "execution_count": 34,
   "id": "ef5f37a5",
   "metadata": {},
   "outputs": [
    {
     "data": {
      "text/plain": [
       "0         752030\n",
       "1         752030\n",
       "2         752030\n",
       "3         752030\n",
       "4         752030\n",
       "           ...  \n",
       "106940    752619\n",
       "106941    752619\n",
       "106942    752619\n",
       "106943    752619\n",
       "106944    752619\n",
       "Name: ReportingDate, Length: 106945, dtype: int64"
      ]
     },
     "execution_count": 34,
     "metadata": {},
     "output_type": "execute_result"
    }
   ],
   "source": [
    "df.ReportingDate"
   ]
  },
  {
   "cell_type": "code",
   "execution_count": 35,
   "id": "820b0a44",
   "metadata": {},
   "outputs": [],
   "source": [
    "from sklearn.ensemble import RandomForestClassifier\n"
   ]
  },
  {
   "cell_type": "code",
   "execution_count": 36,
   "id": "211dc243",
   "metadata": {},
   "outputs": [],
   "source": [
    "## model training automation\n",
    "models ={\n",
    "    'Random Forest':RandomForestClassifier()\n",
    "    \n",
    "}\n"
   ]
  },
  {
   "cell_type": "code",
   "execution_count": 37,
   "id": "03205d9c",
   "metadata": {},
   "outputs": [],
   "source": [
    "from sklearn.metrics import accuracy_score"
   ]
  },
  {
   "cell_type": "code",
   "execution_count": 38,
   "id": "e1b0a80d",
   "metadata": {},
   "outputs": [],
   "source": [
    "def evaluate_model(x_train,y_train,x_test,y_test,models):\n",
    "    \n",
    "    report = {}\n",
    "    for i in range(len(models)):\n",
    "        model = list(models.values())[i]\n",
    "        #train model\n",
    "        model.fit(x_train,y_train)\n",
    "        \n",
    "        #predict testing data\n",
    "        y_test_pred = model.predict(x_test)\n",
    "         \n",
    "            \n",
    "        \n",
    "        #get accuracy for test data\n",
    "        test_model_score = accuracy_score(y_test,y_test_pred)\n",
    "        report[list(models.keys())[i]] = test_model_score\n",
    "        \n",
    "        return report"
   ]
  },
  {
   "cell_type": "code",
   "execution_count": 39,
   "id": "08d7c3bd",
   "metadata": {},
   "outputs": [],
   "source": [
    "def training(x_train,y_train,models):\n",
    "    for i in range(len(models)):\n",
    "        model = list(models.values())[i]\n",
    "        #train model\n",
    "        model.fit(x_train,y_train)\n",
    "        \n",
    "        return model\n",
    "    "
   ]
  },
  {
   "cell_type": "code",
   "execution_count": 40,
   "id": "1af05f89",
   "metadata": {},
   "outputs": [],
   "source": [
    "test_data = pd.read_excel('TestingData.xlsx')\n",
    "test_data['ReportingDate'] = change_dates_to_number(test_data['ReportingDate'])"
   ]
  },
  {
   "cell_type": "code",
   "execution_count": null,
   "id": "974290d7",
   "metadata": {},
   "outputs": [],
   "source": [
    "categorical_column =['Type','UWYOA','Currency','BrokerAgent']\n",
    "numerical_column =['IPTTaxAmount','Commission','NettoCompany','ReportingDate','Admin','NetPremiumtoCompany','TotalSumsInsured','PolicyDurationMonths','Brokerage','RetailPremiumexIPT','IPTTaxRate','TotalPaidbyConsumer','RetailPremiumincIPT','CashPayabletoBrok','PolicyNumber','CashPayabletoUnderwriter']                 "
   ]
  },
  {
   "cell_type": "code",
   "execution_count": 42,
   "id": "0908389f",
   "metadata": {},
   "outputs": [],
   "source": [
    "x_test2 = preprocessor.transform(test_data)"
   ]
  },
  {
   "cell_type": "code",
   "execution_count": 43,
   "id": "b79c6c22",
   "metadata": {},
   "outputs": [],
   "source": [
    "n= len(x_test2)"
   ]
  },
  {
   "cell_type": "code",
   "execution_count": 46,
   "id": "f972f96c",
   "metadata": {},
   "outputs": [],
   "source": [
    "def prediction(x_test, model):\n",
    "    model.fit(x_train,y_train)\n",
    "        \n",
    "    #predict testing data\n",
    "    y_test_pred = model.predict(x_test)\n",
    "    return y_test_pred"
   ]
  },
  {
   "cell_type": "code",
   "execution_count": 47,
   "id": "650a4395",
   "metadata": {},
   "outputs": [],
   "source": [
    "model = training(x_train, y_train, models)\n",
    "pred = prediction(x_test2,model)\n",
    "\n"
   ]
  },
  {
   "cell_type": "code",
   "execution_count": 48,
   "id": "8aada295",
   "metadata": {},
   "outputs": [],
   "source": [
    "data={'Record key':range(1,(n+1)),'Retailer':pred+1}\n",
    "pred_df = pd.DataFrame(data)\n",
    "pred_df\n",
    "PredictionResult= pred_df.to_excel('datafinal.xlsx',index = False)"
   ]
  },
  {
   "cell_type": "code",
   "execution_count": 49,
   "id": "77624ff1",
   "metadata": {},
   "outputs": [
    {
     "data": {
      "text/plain": [
       "{'Random Forest': 0.9710598905979709}"
      ]
     },
     "execution_count": 49,
     "metadata": {},
     "output_type": "execute_result"
    }
   ],
   "source": [
    "evaluate_model(x_train,y_train,x_test,y_test,models)"
   ]
  },
  {
   "cell_type": "code",
   "execution_count": null,
   "id": "b77ff39b",
   "metadata": {},
   "outputs": [],
   "source": []
  },
  {
   "cell_type": "code",
   "execution_count": 12,
   "id": "ae2847aa",
   "metadata": {},
   "outputs": [],
   "source": []
  },
  {
   "cell_type": "code",
   "execution_count": null,
   "id": "210f0bf4",
   "metadata": {},
   "outputs": [],
   "source": []
  },
  {
   "cell_type": "code",
   "execution_count": null,
   "id": "19a61c41",
   "metadata": {},
   "outputs": [],
   "source": []
  },
  {
   "cell_type": "code",
   "execution_count": null,
   "id": "fe2dadd4",
   "metadata": {},
   "outputs": [],
   "source": []
  },
  {
   "cell_type": "code",
   "execution_count": null,
   "id": "9c1531b6",
   "metadata": {},
   "outputs": [],
   "source": []
  },
  {
   "cell_type": "code",
   "execution_count": null,
   "id": "621f5a95",
   "metadata": {},
   "outputs": [],
   "source": []
  },
  {
   "cell_type": "code",
   "execution_count": null,
   "id": "a6843c7d",
   "metadata": {
    "scrolled": true
   },
   "outputs": [],
   "source": []
  },
  {
   "cell_type": "code",
   "execution_count": null,
   "id": "6c4edf7c",
   "metadata": {},
   "outputs": [],
   "source": [
    "\n",
    "     \n",
    "\n",
    "\n",
    "\n",
    "\n",
    "\n",
    "\n",
    "\n",
    "\n",
    "\n",
    "\n",
    "\n"
   ]
  },
  {
   "cell_type": "code",
   "execution_count": null,
   "id": "ecd4c723",
   "metadata": {},
   "outputs": [],
   "source": []
  },
  {
   "cell_type": "code",
   "execution_count": null,
   "id": "07e44e3a",
   "metadata": {},
   "outputs": [],
   "source": []
  },
  {
   "cell_type": "code",
   "execution_count": null,
   "id": "69c3797e",
   "metadata": {},
   "outputs": [],
   "source": []
  },
  {
   "cell_type": "code",
   "execution_count": null,
   "id": "4e587bd5",
   "metadata": {},
   "outputs": [],
   "source": []
  },
  {
   "cell_type": "code",
   "execution_count": null,
   "id": "0a8fa8e8",
   "metadata": {},
   "outputs": [],
   "source": []
  },
  {
   "cell_type": "markdown",
   "id": "cdd35ef5",
   "metadata": {},
   "source": []
  },
  {
   "cell_type": "code",
   "execution_count": null,
   "id": "3240fd06",
   "metadata": {},
   "outputs": [],
   "source": []
  },
  {
   "cell_type": "code",
   "execution_count": null,
   "id": "6944fc79",
   "metadata": {},
   "outputs": [],
   "source": []
  },
  {
   "cell_type": "code",
   "execution_count": null,
   "id": "9688e00a",
   "metadata": {},
   "outputs": [],
   "source": []
  },
  {
   "cell_type": "code",
   "execution_count": null,
   "id": "d6980acb",
   "metadata": {},
   "outputs": [],
   "source": []
  },
  {
   "cell_type": "code",
   "execution_count": null,
   "id": "58536aac",
   "metadata": {},
   "outputs": [],
   "source": []
  },
  {
   "cell_type": "code",
   "execution_count": null,
   "id": "ea824ef3",
   "metadata": {},
   "outputs": [],
   "source": []
  },
  {
   "cell_type": "code",
   "execution_count": null,
   "id": "a8ebb4d3",
   "metadata": {},
   "outputs": [],
   "source": []
  },
  {
   "cell_type": "code",
   "execution_count": null,
   "id": "f5e5d3cc",
   "metadata": {},
   "outputs": [],
   "source": []
  },
  {
   "cell_type": "code",
   "execution_count": null,
   "id": "52e16596",
   "metadata": {},
   "outputs": [],
   "source": []
  },
  {
   "cell_type": "code",
   "execution_count": null,
   "id": "de8a3060",
   "metadata": {},
   "outputs": [],
   "source": []
  },
  {
   "cell_type": "code",
   "execution_count": null,
   "id": "48b82860",
   "metadata": {},
   "outputs": [],
   "source": []
  },
  {
   "cell_type": "code",
   "execution_count": null,
   "id": "0662f08d",
   "metadata": {},
   "outputs": [],
   "source": []
  }
 ],
 "metadata": {
  "kernelspec": {
   "display_name": "Python 3 (ipykernel)",
   "language": "python",
   "name": "python3"
  },
  "language_info": {
   "codemirror_mode": {
    "name": "ipython",
    "version": 3
   },
   "file_extension": ".py",
   "mimetype": "text/x-python",
   "name": "python",
   "nbconvert_exporter": "python",
   "pygments_lexer": "ipython3",
   "version": "3.9.13"
  }
 },
 "nbformat": 4,
 "nbformat_minor": 5
}
